{
 "cells": [
  {
   "cell_type": "code",
   "execution_count": 1,
   "metadata": {
    "execution": {
     "iopub.execute_input": "2023-08-05T08:05:34.237667Z",
     "iopub.status.busy": "2023-08-05T08:05:34.237044Z",
     "iopub.status.idle": "2023-08-05T08:05:36.299495Z",
     "shell.execute_reply": "2023-08-05T08:05:36.298526Z"
    }
   },
   "outputs": [],
   "source": [
    "import matplotlib.pyplot as plt\n",
    "import numpy as np\n",
    "import math\n",
    "from energyflow.archs import EFN\n",
    "from energyflow.utils import data_split"
   ]
  },
  {
   "cell_type": "code",
   "execution_count": 2,
   "metadata": {
    "execution": {
     "iopub.execute_input": "2023-08-05T08:05:36.304590Z",
     "iopub.status.busy": "2023-08-05T08:05:36.304270Z",
     "iopub.status.idle": "2023-08-05T08:05:36.310707Z",
     "shell.execute_reply": "2023-08-05T08:05:36.310144Z"
    }
   },
   "outputs": [],
   "source": [
    "def read_data(file_path):\n",
    "    data_file = open(file_path)\n",
    "    lno = 0\n",
    "    pTvals = []\n",
    "    etavals = []\n",
    "    phivals = []\n",
    "    tvals = []\n",
    "    events_input=[]\n",
    "    events_target=[]\n",
    "    data = []\n",
    "\n",
    "    for line in data_file:\n",
    "        lno+=1\n",
    "        if (lno > 1000000000):\n",
    "            break\n",
    "        # enumber = int(line.split()[0])\n",
    "        isprime = int(line.split()[1])\n",
    "        E = float(line.split()[2])\n",
    "        px = float(line.split()[3])\n",
    "        py = float(line.split()[4])\n",
    "        pz = float(line.split()[5])\n",
    "        t = float(line.split()[6])\n",
    "        \n",
    "        pT = math.sqrt( px**2 + py**2 )\n",
    "        p = math.sqrt( px**2 + py**2 + pz**2 )\n",
    "        \n",
    "        if (pz > 0):    \n",
    "            eta = math.acosh(p / pT)\n",
    "        else:\n",
    "            eta = -math.acosh(p / pT)\n",
    "        phi = math.atan( py / px )\n",
    "        \n",
    "        if (isprime==1):\n",
    "            pTvals += [pT]\n",
    "            etavals += [eta]\n",
    "            phivals += [phi]\n",
    "            tvals += [t]\n",
    "            data += [[pT,eta,phi,t]]\n",
    "        if (isprime==0):\n",
    "            events_target += [[t]] \n",
    "            if (lno > 1):\n",
    "                events_input += [data]\n",
    "            data=[]\n",
    "\n",
    "    events_input += [data]\n",
    "\n",
    "    return events_input, events_target\n",
    "\n"
   ]
  },
  {
   "cell_type": "code",
   "execution_count": 3,
   "metadata": {
    "execution": {
     "iopub.execute_input": "2023-08-05T08:05:36.316139Z",
     "iopub.status.busy": "2023-08-05T08:05:36.315968Z",
     "iopub.status.idle": "2023-08-05T08:05:36.319804Z",
     "shell.execute_reply": "2023-08-05T08:05:36.319251Z"
    }
   },
   "outputs": [],
   "source": [
    "def zero_padding(raw_data, max_num):\n",
    "\n",
    "    input_zp = np.zeros([max_num,40,4])\n",
    "\n",
    "    for i in range(0, max_num):\n",
    "        for j in range(min(40,len(raw_data[i]))):\n",
    "            input_zp[i,j,:] = raw_data[i][j]\n",
    "        np.random.shuffle(input_zp[i,:,:])\n",
    "\n",
    "    return input_zp"
   ]
  },
  {
   "cell_type": "code",
   "execution_count": 4,
   "metadata": {
    "execution": {
     "iopub.execute_input": "2023-08-05T08:05:36.325229Z",
     "iopub.status.busy": "2023-08-05T08:05:36.325060Z",
     "iopub.status.idle": "2023-08-05T08:05:36.329739Z",
     "shell.execute_reply": "2023-08-05T08:05:36.329175Z"
    }
   },
   "outputs": [],
   "source": [
    "def normalization(input, target, max_num):\n",
    "\n",
    "    pT_weighted_time = []\n",
    "\n",
    "    for jet in input:\n",
    "        mask = jet[:,0] > 0\n",
    "        yphi_avg = np.average(jet[mask,1:3], weights=jet[mask,0], axis=0)\n",
    "        jet[mask,1:3] -= yphi_avg\n",
    "        \n",
    "        t_avg = np.average(jet[mask,3], weights=jet[mask,0], axis=0)\n",
    "        pT_weighted_time += [[t_avg]]\n",
    "        jet[mask,3] /= t_avg\n",
    "        jet[mask,3] -= 1\n",
    "        jet[mask,0] /= jet[:,0].sum()\n",
    "\n",
    "    target = np.array(target[:max_num])\n",
    "    target_scaled = target / pT_weighted_time - 1\n",
    "\n",
    "    return pT_weighted_time, input, target_scaled"
   ]
  },
  {
   "cell_type": "code",
   "execution_count": 5,
   "metadata": {
    "execution": {
     "iopub.execute_input": "2023-08-05T08:05:36.335255Z",
     "iopub.status.busy": "2023-08-05T08:05:36.334697Z",
     "iopub.status.idle": "2023-08-05T08:05:36.339163Z",
     "shell.execute_reply": "2023-08-05T08:05:36.338453Z"
    }
   },
   "outputs": [],
   "source": [
    "def preprocessing(input_path_list, max_num):\n",
    "\n",
    "    data_input_dict = {}\n",
    "    data_label_dict = {}\n",
    "    data_pTweighted_dict = {}\n",
    "\n",
    "    for key, data_path in enumerate(input_path_list):\n",
    "        \n",
    "        raw_input, raw_label = read_data(data_path)\n",
    "        input_zp = zero_padding(raw_input, max_num)\n",
    "        pTweighted_time, input_scaled, label_scaled = normalization(input_zp, raw_label, max_num)\n",
    "\n",
    "        data_input_dict[\"input\"+data_path] = input_scaled\n",
    "        data_label_dict[\"label\"+data_path] = label_scaled\n",
    "        data_pTweighted_dict[\"pTweighted\"+data_path] = pTweighted_time\n",
    "\n",
    "    return data_pTweighted_dict, data_input_dict, data_label_dict"
   ]
  },
  {
   "cell_type": "code",
   "execution_count": 7,
   "metadata": {
    "execution": {
     "iopub.execute_input": "2023-08-05T08:05:36.354929Z",
     "iopub.status.busy": "2023-08-05T08:05:36.354729Z",
     "iopub.status.idle": "2023-08-05T08:05:36.358827Z",
     "shell.execute_reply": "2023-08-05T08:05:36.358114Z"
    }
   },
   "outputs": [],
   "source": [
    "num_jets =10000 \n",
    "#The training configuration\n",
    "input_path_list = [r\"D:\\Physics\\ML\\jet timing\\data\\delayed_data_etaM_0_etaJ_-2_xt_500.txt\"]\n",
    "pTweighted_dict, input_dict, label_dict = preprocessing(input_path_list, num_jets)\n",
    "\n",
    "new_etaJ_list = [r\"D:\\Physics\\ML\\jet timing\\data\\processed_delayed_jet_etaM_-1_etaJ_-2_xt_500\"]\n",
    "neJ_pTweighted_dict, neJ_input_dict, neJ_label_dict = preprocessing(new_etaJ_list, num_jets)\n",
    "\n",
    "random_etaJ_list = [r\"D:\\Physics\\ML\\jet timing\\data\\processed_delayed_jet_etaM_0.8_etaJ_-2_xt_500\"]\n",
    "rdJ_pTwieghted_dict, rdJ_input_dict, rdJ_label_dict = preprocessing(random_etaJ_list, num_jets)\n",
    "\n",
    "inverse_etaJ_list = [r\"D:\\Physics\\ML\\jet timing\\data\\processed_delayed_jet_etaM_2_etaJ_-2_xt_500\"]\n",
    "inJ_pTweighted_dict, inJ_input_dict, inJ_label_dict = preprocessing(inverse_etaJ_list, num_jets)"
   ]
  },
  {
   "cell_type": "code",
   "execution_count": 9,
   "metadata": {},
   "outputs": [],
   "source": [
    "import tensorflow as tf\n",
    "from keras import backend as K\n",
    "\n",
    "efn = tf.keras.models.load_model(r\"D:\\Physics\\ML\\jet timing\\code\\trained_model\\normalized_mixed_efn_latent200_2config.h5\", custom_objects={\"K\": K})"
   ]
  },
  {
   "cell_type": "code",
   "execution_count": 10,
   "metadata": {},
   "outputs": [],
   "source": [
    "activation_model = tf.keras.Model(inputs=efn.input, outputs=efn.get_layer('activation_26').output)\n",
    "\n",
    "num_sample = 10000"
   ]
  },
  {
   "cell_type": "code",
   "execution_count": 27,
   "metadata": {},
   "outputs": [
    {
     "name": "stdout",
     "output_type": "stream",
     "text": [
      "Model: \"model\"\n",
      "__________________________________________________________________________________________________\n",
      " Layer (type)                   Output Shape         Param #     Connected to                     \n",
      "==================================================================================================\n",
      " phats_input (InputLayer)       [(None, None, 3)]    0           []                               \n",
      "                                                                                                  \n",
      " tdist_0 (TimeDistributed)      (None, None, 200)    800         ['phats_input[0][0]']            \n",
      "                                                                                                  \n",
      " activation_21 (Activation)     (None, None, 200)    0           ['tdist_0[0][0]']                \n",
      "                                                                                                  \n",
      " tdist_1 (TimeDistributed)      (None, None, 200)    40200       ['activation_21[0][0]']          \n",
      "                                                                                                  \n",
      " activation_22 (Activation)     (None, None, 200)    0           ['tdist_1[0][0]']                \n",
      "                                                                                                  \n",
      " zs_input (InputLayer)          [(None, None)]       0           []                               \n",
      "                                                                                                  \n",
      " tdist_2 (TimeDistributed)      (None, None, 200)    40200       ['activation_22[0][0]']          \n",
      "                                                                                                  \n",
      " mask (Lambda)                  (None, None)         0           ['zs_input[0][0]']               \n",
      "                                                                                                  \n",
      " activation_23 (Activation)     (None, None, 200)    0           ['tdist_2[0][0]']                \n",
      "                                                                                                  \n",
      " sum (Dot)                      (None, 200)          0           ['mask[0][0]',                   \n",
      "                                                                  'activation_23[0][0]']          \n",
      "                                                                                                  \n",
      " dense_0 (Dense)                (None, 200)          40200       ['sum[0][0]']                    \n",
      "                                                                                                  \n",
      " activation_24 (Activation)     (None, 200)          0           ['dense_0[0][0]']                \n",
      "                                                                                                  \n",
      " dense_1 (Dense)                (None, 200)          40200       ['activation_24[0][0]']          \n",
      "                                                                                                  \n",
      " activation_25 (Activation)     (None, 200)          0           ['dense_1[0][0]']                \n",
      "                                                                                                  \n",
      " dense_2 (Dense)                (None, 200)          40200       ['activation_25[0][0]']          \n",
      "                                                                                                  \n",
      " activation_26 (Activation)     (None, 200)          0           ['dense_2[0][0]']                \n",
      "                                                                                                  \n",
      "==================================================================================================\n",
      "Total params: 201,800\n",
      "Trainable params: 201,800\n",
      "Non-trainable params: 0\n",
      "__________________________________________________________________________________________________\n"
     ]
    }
   ],
   "source": [
    "activation_model.summary()"
   ]
  },
  {
   "cell_type": "code",
   "execution_count": 11,
   "metadata": {},
   "outputs": [],
   "source": [
    "train_set = input_dict['inputD:\\Physics\\ML\\jet timing\\data\\delayed_data_etaM_0_etaJ_-2_xt_500.txt']\n",
    "label_set = label_dict['labelD:\\Physics\\ML\\jet timing\\data\\delayed_data_etaM_0_etaJ_-2_xt_500.txt']\n",
    "# Split the mixed data. The shuffle take place before splitting.\n",
    "(z_list, _,\n",
    " X_list, _,\n",
    " Y_list, _) = data_split(train_set[:,:,0], train_set[:,:,1:], label_set, \n",
    " val=0.0, test=0.0, shuffle = True)\n",
    " \n",
    "single_z = np.array(z_list[:num_sample])\n",
    "single_X = np.array(X_list[:num_sample])\n",
    "# print(single_z)\n",
    "# print(single_X)"
   ]
  },
  {
   "cell_type": "code",
   "execution_count": 12,
   "metadata": {},
   "outputs": [
    {
     "name": "stdout",
     "output_type": "stream",
     "text": [
      "313/313 [==============================] - 1s 3ms/step\n"
     ]
    }
   ],
   "source": [
    "F3_act = activation_model.predict([single_z,single_X])\n",
    "\n",
    "F3_nap = np.sum(F3_act, axis=0)\n",
    "normalized_F3_nap = F3_nap / np.max(F3_nap)"
   ]
  },
  {
   "cell_type": "code",
   "execution_count": 15,
   "metadata": {},
   "outputs": [],
   "source": [
    "neJ_train_set = neJ_input_dict['inputD:\\Physics\\ML\\jet timing\\data\\processed_delayed_jet_etaM_-1_etaJ_-2_xt_500']\n",
    "neJ_label_set = neJ_label_dict['labelD:\\Physics\\ML\\jet timing\\data\\processed_delayed_jet_etaM_-1_etaJ_-2_xt_500']\n",
    "# Split the mixed data. The shuffle take place before splitting.\n",
    "(neJ_z_list, _,\n",
    " neJ_X_list, _,\n",
    " neJ_Y_list, _) = data_split(neJ_train_set[:,:,0], neJ_train_set[:,:,1:], neJ_label_set, \n",
    " val=0.0, test=0.0, shuffle = True)\n",
    " \n",
    "neJ_single_z = np.array(neJ_z_list[:num_sample])\n",
    "neJ_single_X = np.array(neJ_X_list[:num_sample])"
   ]
  },
  {
   "cell_type": "code",
   "execution_count": 26,
   "metadata": {},
   "outputs": [
    {
     "name": "stdout",
     "output_type": "stream",
     "text": [
      "Model: \"model_3\"\n",
      "__________________________________________________________________________________________________\n",
      " Layer (type)                   Output Shape         Param #     Connected to                     \n",
      "==================================================================================================\n",
      " phats_input (InputLayer)       [(None, None, 3)]    0           []                               \n",
      "                                                                                                  \n",
      " tdist_0 (TimeDistributed)      (None, None, 200)    800         ['phats_input[0][0]']            \n",
      "                                                                                                  \n",
      " activation_21 (Activation)     (None, None, 200)    0           ['tdist_0[0][0]']                \n",
      "                                                                                                  \n",
      " tdist_1 (TimeDistributed)      (None, None, 200)    40200       ['activation_21[0][0]']          \n",
      "                                                                                                  \n",
      " activation_22 (Activation)     (None, None, 200)    0           ['tdist_1[0][0]']                \n",
      "                                                                                                  \n",
      " zs_input (InputLayer)          [(None, None)]       0           []                               \n",
      "                                                                                                  \n",
      " tdist_2 (TimeDistributed)      (None, None, 200)    40200       ['activation_22[0][0]']          \n",
      "                                                                                                  \n",
      " mask (Lambda)                  (None, None)         0           ['zs_input[0][0]']               \n",
      "                                                                                                  \n",
      " activation_23 (Activation)     (None, None, 200)    0           ['tdist_2[0][0]']                \n",
      "                                                                                                  \n",
      " sum (Dot)                      (None, 200)          0           ['mask[0][0]',                   \n",
      "                                                                  'activation_23[0][0]']          \n",
      "                                                                                                  \n",
      " dense_0 (Dense)                (None, 200)          40200       ['sum[0][0]']                    \n",
      "                                                                                                  \n",
      " activation_24 (Activation)     (None, 200)          0           ['dense_0[0][0]']                \n",
      "                                                                                                  \n",
      " dense_1 (Dense)                (None, 200)          40200       ['activation_24[0][0]']          \n",
      "                                                                                                  \n",
      " activation_25 (Activation)     (None, 200)          0           ['dense_1[0][0]']                \n",
      "                                                                                                  \n",
      " dense_2 (Dense)                (None, 200)          40200       ['activation_25[0][0]']          \n",
      "                                                                                                  \n",
      " activation_26 (Activation)     (None, 200)          0           ['dense_2[0][0]']                \n",
      "                                                                                                  \n",
      " output (Dense)                 (None, 1)            200         ['activation_26[0][0]']          \n",
      "                                                                                                  \n",
      " activation_27 (Activation)     (None, 1)            0           ['output[0][0]']                 \n",
      "                                                                                                  \n",
      "==================================================================================================\n",
      "Total params: 202,000\n",
      "Trainable params: 202,000\n",
      "Non-trainable params: 0\n",
      "__________________________________________________________________________________________________\n"
     ]
    }
   ],
   "source": [
    "efn.summary()"
   ]
  },
  {
   "cell_type": "code",
   "execution_count": 16,
   "metadata": {},
   "outputs": [
    {
     "name": "stdout",
     "output_type": "stream",
     "text": [
      "313/313 [==============================] - 1s 3ms/step\n"
     ]
    }
   ],
   "source": [
    "neJ_F3_act = activation_model.predict([neJ_single_z,neJ_single_X])\n",
    "\n",
    "neJ_F3_nap = np.sum(neJ_F3_act, axis=0)\n",
    "normalized_neJ_F3_nap = neJ_F3_nap / np.max(neJ_F3_nap)"
   ]
  },
  {
   "cell_type": "code",
   "execution_count": 17,
   "metadata": {},
   "outputs": [],
   "source": [
    "rdJ_train_set = rdJ_input_dict['inputD:\\Physics\\ML\\jet timing\\data\\processed_delayed_jet_etaM_0.8_etaJ_-2_xt_500']\n",
    "rdJ_label_set = rdJ_label_dict['labelD:\\Physics\\ML\\jet timing\\data\\processed_delayed_jet_etaM_0.8_etaJ_-2_xt_500']\n",
    "# Split the mixed data. The shuffle take place before splitting.\n",
    "(rdJ_z_list, _,\n",
    " rdJ_X_list, _,\n",
    " rdJ_Y_list, _) = data_split(rdJ_train_set[:,:,0], rdJ_train_set[:,:,1:], rdJ_label_set, \n",
    " val=0.0, test=0.0, shuffle = True)\n",
    " \n",
    "rdJ_single_z = np.array(rdJ_z_list[:num_sample])\n",
    "rdJ_single_X = np.array(rdJ_X_list[:num_sample])"
   ]
  },
  {
   "cell_type": "code",
   "execution_count": 18,
   "metadata": {},
   "outputs": [
    {
     "name": "stdout",
     "output_type": "stream",
     "text": [
      "313/313 [==============================] - 1s 3ms/step\n"
     ]
    }
   ],
   "source": [
    "rdJ_F3_act = activation_model.predict([rdJ_single_z,rdJ_single_X])\n",
    "\n",
    "rdJ_F3_nap = np.sum(rdJ_F3_act, axis=0)\n",
    "normalized_rdJ_F3_nap = rdJ_F3_nap / np.max(rdJ_F3_nap)"
   ]
  },
  {
   "cell_type": "code",
   "execution_count": 19,
   "metadata": {},
   "outputs": [],
   "source": [
    "inJ_train_set = inJ_input_dict['inputD:\\Physics\\ML\\jet timing\\data\\processed_delayed_jet_etaM_2_etaJ_-2_xt_500']\n",
    "inJ_label_set = inJ_label_dict['labelD:\\Physics\\ML\\jet timing\\data\\processed_delayed_jet_etaM_2_etaJ_-2_xt_500']\n",
    "# Split the mixed data. The shuffle take place before splitting.\n",
    "(inJ_z_list, _,\n",
    " inJ_X_list, _,\n",
    " inJ_Y_list, _) = data_split(inJ_train_set[:,:,0], inJ_train_set[:,:,1:], inJ_label_set, \n",
    " val=0.0, test=0.0, shuffle = True)\n",
    " \n",
    "inJ_single_z = np.array(inJ_z_list[:num_sample])\n",
    "inJ_single_X = np.array(inJ_X_list[:num_sample])"
   ]
  },
  {
   "cell_type": "code",
   "execution_count": 20,
   "metadata": {},
   "outputs": [
    {
     "name": "stdout",
     "output_type": "stream",
     "text": [
      "313/313 [==============================] - 1s 3ms/step\n"
     ]
    }
   ],
   "source": [
    "inJ_F3_act = activation_model.predict([inJ_single_z,inJ_single_X])\n",
    "\n",
    "inJ_F3_nap = np.sum(inJ_F3_act, axis=0)\n",
    "normalized_inJ_F3_nap = inJ_F3_nap / np.max(inJ_F3_nap)"
   ]
  },
  {
   "cell_type": "code",
   "execution_count": 21,
   "metadata": {},
   "outputs": [],
   "source": [
    "comp = [normalized_F3_nap, normalized_neJ_F3_nap, normalized_rdJ_F3_nap, normalized_inJ_F3_nap]\n",
    "sorted_comp = [list(x) for x in zip(*sorted(zip(*comp), reverse=True))]\n",
    "# print(sorted_comp)"
   ]
  },
  {
   "cell_type": "code",
   "execution_count": 22,
   "metadata": {},
   "outputs": [
    {
     "data": {
      "image/png": "[encoded data removed]",
      "text/plain": [
       "<Figure size 200x1000 with 1 Axes>"
      ]
     },
     "metadata": {},
     "output_type": "display_data"
    }
   ],
   "source": [
    "neuron_indices = np.arange(len(sorted_comp[0]))\n",
    "width = np.ones_like(neuron_indices)\n",
    "colors = plt.cm.viridis(sorted_comp[0])  # You can choose any colormap you prefer\n",
    "\n",
    "# Create the horizontal bar plot\n",
    "plt.figure(figsize=(2, 10))\n",
    "bars = plt.barh(neuron_indices, width, height=1, color=colors)\n",
    "\n",
    "# # Add color bar to indicate the mapping of color to values\n",
    "# cbar = plt.colorbar(bars, orientation='vertical')\n",
    "# cbar.set_label('Normalized Values')\n",
    "\n",
    "plt.xlabel('Values')\n",
    "plt.ylabel('Labels')\n",
    "plt.title('etaM=0 etaJ=-2 (Training)')\n",
    "plt.show()"
   ]
  },
  {
   "cell_type": "code",
   "execution_count": 23,
   "metadata": {},
   "outputs": [
    {
     "data": {
      "image/png": "[encoded data removed]",
      "text/plain": [
       "<Figure size 200x1000 with 1 Axes>"
      ]
     },
     "metadata": {},
     "output_type": "display_data"
    }
   ],
   "source": [
    "neuron_indices = np.arange(len(sorted_comp[1]))\n",
    "width = np.ones_like(neuron_indices)\n",
    "colors = plt.cm.viridis(sorted_comp[1])  # You can choose any colormap you prefer\n",
    "\n",
    "# Create the horizontal bar plot\n",
    "plt.figure(figsize=(2, 10))\n",
    "bars = plt.barh(neuron_indices, width, height=1, color=colors)\n",
    "\n",
    "# # Add color bar to indicate the mapping of color to values\n",
    "# cbar = plt.colorbar(bars, orientation='vertical')\n",
    "# cbar.set_label('Normalized Values')\n",
    "\n",
    "plt.xlabel('Values')\n",
    "plt.ylabel('Labels')\n",
    "plt.title('etaM=0 etaJ=0 (neJ)')\n",
    "plt.show()"
   ]
  },
  {
   "cell_type": "code",
   "execution_count": 24,
   "metadata": {},
   "outputs": [
    {
     "data": {
      "image/png": "[encoded data removed]",
      "text/plain": [
       "<Figure size 200x1000 with 1 Axes>"
      ]
     },
     "metadata": {},
     "output_type": "display_data"
    }
   ],
   "source": [
    "neuron_indices = np.arange(len(sorted_comp[2]))\n",
    "width = np.ones_like(neuron_indices)\n",
    "colors = plt.cm.viridis(sorted_comp[2])  # You can choose any colormap you prefer\n",
    "\n",
    "# Create the horizontal bar plot\n",
    "plt.figure(figsize=(2, 10))\n",
    "bars = plt.barh(neuron_indices, width, height=1, color=colors)\n",
    "\n",
    "# # Add color bar to indicate the mapping of color to values\n",
    "# cbar = plt.colorbar(bars, orientation='vertical')\n",
    "# cbar.set_label('Normalized Values')\n",
    "\n",
    "plt.xlabel('Values')\n",
    "plt.ylabel('Labels')\n",
    "plt.title('etaM=0 etaJ=1 (rdJ)')\n",
    "plt.show()"
   ]
  },
  {
   "cell_type": "code",
   "execution_count": 25,
   "metadata": {},
   "outputs": [
    {
     "data": {
      "image/png": "[encoded data removed]",
      "text/plain": [
       "<Figure size 200x1000 with 1 Axes>"
      ]
     },
     "metadata": {},
     "output_type": "display_data"
    }
   ],
   "source": [
    "neuron_indices = np.arange(len(sorted_comp[3]))\n",
    "width = np.ones_like(neuron_indices)\n",
    "colors = plt.cm.viridis(sorted_comp[3])  # You can choose any colormap you prefer\n",
    "\n",
    "# Create the horizontal bar plot\n",
    "plt.figure(figsize=(2, 10))\n",
    "bars = plt.barh(neuron_indices, width, height=1, color=colors)\n",
    "\n",
    "# # Add color bar to indicate the mapping of color to values\n",
    "# cbar = plt.colorbar(bars, orientation='vertical')\n",
    "# cbar.set_label('Normalized Values')\n",
    "\n",
    "plt.xlabel('Values')\n",
    "plt.ylabel('Labels')\n",
    "plt.title('etaM=-2 etaJ=0 (sl)')\n",
    "plt.show()"
   ]
  }
 ],
 "metadata": {
  "interpreter": {
   "hash": "28666db6a9a784d210517f331680e19575f84f7d8b6668bd65e3a8b7e944ed5f"
  },
  "kernelspec": {
   "display_name": "Python 3.10.9 ('madminer')",
   "language": "python",
   "name": "python3"
  },
  "language_info": {
   "codemirror_mode": {
    "name": "ipython",
    "version": 3
   },
   "file_extension": ".py",
   "mimetype": "text/x-python",
   "name": "python",
   "nbconvert_exporter": "python",
   "pygments_lexer": "ipython3",
   "version": "3.10.9"
  },
  "orig_nbformat": 4
 },
 "nbformat": 4,
 "nbformat_minor": 2
}
