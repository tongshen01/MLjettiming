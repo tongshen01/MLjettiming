{
 "cells": [
  {
   "cell_type": "code",
   "execution_count": 1,
   "metadata": {
    "execution": {
     "iopub.execute_input": "2023-08-05T08:05:34.237667Z",
     "iopub.status.busy": "2023-08-05T08:05:34.237044Z",
     "iopub.status.idle": "2023-08-05T08:05:36.299495Z",
     "shell.execute_reply": "2023-08-05T08:05:36.298526Z"
    }
   },
   "outputs": [],
   "source": [
    "import matplotlib.pyplot as plt\n",
    "import numpy as np\n",
    "import math\n",
    "from energyflow.archs import EFN\n",
    "from energyflow.utils import data_split"
   ]
  },
  {
   "cell_type": "code",
   "execution_count": 2,
   "metadata": {
    "execution": {
     "iopub.execute_input": "2023-08-05T08:05:36.304590Z",
     "iopub.status.busy": "2023-08-05T08:05:36.304270Z",
     "iopub.status.idle": "2023-08-05T08:05:36.310707Z",
     "shell.execute_reply": "2023-08-05T08:05:36.310144Z"
    }
   },
   "outputs": [],
   "source": [
    "def read_data(file_path):\n",
    "    data_file = open(file_path)\n",
    "    lno = 0\n",
    "    pTvals = []\n",
    "    etavals = []\n",
    "    phivals = []\n",
    "    tvals = []\n",
    "    events_input=[]\n",
    "    events_target=[]\n",
    "    data = []\n",
    "\n",
    "    for line in data_file:\n",
    "        lno+=1\n",
    "        if (lno > 1000000000):\n",
    "            break\n",
    "        # enumber = int(line.split()[0])\n",
    "        isprime = int(line.split()[1])\n",
    "        E = float(line.split()[2])\n",
    "        px = float(line.split()[3])\n",
    "        py = float(line.split()[4])\n",
    "        pz = float(line.split()[5])\n",
    "        t = float(line.split()[6])\n",
    "        \n",
    "        pT = math.sqrt( px**2 + py**2 )\n",
    "        p = math.sqrt( px**2 + py**2 + pz**2 )\n",
    "        \n",
    "        if (pz > 0):    \n",
    "            eta = math.acosh(p / pT)\n",
    "        else:\n",
    "            eta = -math.acosh(p / pT)\n",
    "        phi = math.atan( py / px )\n",
    "        \n",
    "        if (isprime==1):\n",
    "            pTvals += [pT]\n",
    "            etavals += [eta]\n",
    "            phivals += [phi]\n",
    "            tvals += [t]\n",
    "            data += [[pT,eta,phi,t]]\n",
    "        if (isprime==0):\n",
    "            events_target += [[t]] \n",
    "            if (lno > 1):\n",
    "                events_input += [data]\n",
    "            data=[]\n",
    "\n",
    "    events_input += [data]\n",
    "\n",
    "    return events_input, events_target\n",
    "\n"
   ]
  },
  {
   "cell_type": "code",
   "execution_count": 3,
   "metadata": {
    "execution": {
     "iopub.execute_input": "2023-08-05T08:05:36.316139Z",
     "iopub.status.busy": "2023-08-05T08:05:36.315968Z",
     "iopub.status.idle": "2023-08-05T08:05:36.319804Z",
     "shell.execute_reply": "2023-08-05T08:05:36.319251Z"
    }
   },
   "outputs": [],
   "source": [
    "def zero_padding(raw_data, max_num):\n",
    "\n",
    "    input_zp = np.zeros([max_num,40,4])\n",
    "\n",
    "    for i in range(0, max_num):\n",
    "        for j in range(min(40,len(raw_data[i]))):\n",
    "            input_zp[i,j,:] = raw_data[i][j]\n",
    "        np.random.shuffle(input_zp[i,:,:])\n",
    "\n",
    "    return input_zp"
   ]
  },
  {
   "cell_type": "code",
   "execution_count": 4,
   "metadata": {
    "execution": {
     "iopub.execute_input": "2023-08-05T08:05:36.325229Z",
     "iopub.status.busy": "2023-08-05T08:05:36.325060Z",
     "iopub.status.idle": "2023-08-05T08:05:36.329739Z",
     "shell.execute_reply": "2023-08-05T08:05:36.329175Z"
    }
   },
   "outputs": [],
   "source": [
    "def normalization(input, target, max_num):\n",
    "\n",
    "    pT_weighted_time = []\n",
    "\n",
    "    for jet in input:\n",
    "        mask = jet[:,0] > 0\n",
    "        yphi_avg = np.average(jet[mask,1:3], weights=jet[mask,0], axis=0)\n",
    "        jet[mask,1:3] -= yphi_avg\n",
    "        \n",
    "        t_avg = np.average(jet[mask,3], weights=jet[mask,0], axis=0)\n",
    "        pT_weighted_time += [[t_avg]]\n",
    "        jet[mask,3] /= t_avg\n",
    "        jet[mask,3] -= 1\n",
    "        jet[mask,0] /= jet[:,0].sum()\n",
    "\n",
    "    target = np.array(target[:max_num])\n",
    "    target_scaled = target / pT_weighted_time - 1\n",
    "\n",
    "    return pT_weighted_time, input, target_scaled"
   ]
  },
  {
   "cell_type": "code",
   "execution_count": 5,
   "metadata": {
    "execution": {
     "iopub.execute_input": "2023-08-05T08:05:36.335255Z",
     "iopub.status.busy": "2023-08-05T08:05:36.334697Z",
     "iopub.status.idle": "2023-08-05T08:05:36.339163Z",
     "shell.execute_reply": "2023-08-05T08:05:36.338453Z"
    }
   },
   "outputs": [],
   "source": [
    "def preprocessing(input_path_list, max_num):\n",
    "\n",
    "    data_input_dict = {}\n",
    "    data_label_dict = {}\n",
    "    data_pTweighted_dict = {}\n",
    "\n",
    "    for key, data_path in enumerate(input_path_list):\n",
    "        \n",
    "        raw_input, raw_label = read_data(data_path)\n",
    "        input_zp = zero_padding(raw_input, max_num)\n",
    "        pTweighted_time, input_scaled, label_scaled = normalization(input_zp, raw_label, max_num)\n",
    "\n",
    "        data_input_dict[\"input\"+data_path] = input_scaled\n",
    "        data_label_dict[\"label\"+data_path] = label_scaled\n",
    "        data_pTweighted_dict[\"pTweighted\"+data_path] = pTweighted_time\n",
    "\n",
    "    return data_pTweighted_dict, data_input_dict, data_label_dict"
   ]
  },
  {
   "cell_type": "code",
   "execution_count": 6,
   "metadata": {
    "execution": {
     "iopub.execute_input": "2023-08-05T08:05:36.354929Z",
     "iopub.status.busy": "2023-08-05T08:05:36.354729Z",
     "iopub.status.idle": "2023-08-05T08:05:36.358827Z",
     "shell.execute_reply": "2023-08-05T08:05:36.358114Z"
    }
   },
   "outputs": [],
   "source": [
    "num_jets =30000 \n",
    "\n",
    "# The model is trained on this configuration\n",
    "input_path_list = [r\"D:\\Physics\\ML\\jet timing\\data\\delayed_data_etaM_0_etaJ_-2_xt_500.txt\"]\n",
    "pTweighted_dict, input_dict, label_dict = preprocessing(input_path_list, num_jets)\n",
    "\n",
    "new_etaJ_list = [r\"D:\\Physics\\ML\\jet timing\\data\\different_config\\training\\processed_delayed_jet_etaM_0_etaJ_0_xt_500\"]\n",
    "neJ_pTweighted_dict, neJ_input_dict, neJ_label_dict = preprocessing(new_etaJ_list, num_jets)\n",
    "\n",
    "random_etaJ_list = [r\"D:\\Physics\\ML\\jet timing\\data\\processed_etaM_0_etaJ_1_xt_500.txt\"]\n",
    "rdJ_pTwieghted_dict, rdJ_input_dict, rdJ_label_dict = preprocessing(random_etaJ_list, num_jets)\n",
    "\n",
    "inverse_etaJ_list = [r\"D:\\Physics\\ML\\jet timing\\data\\processed_etaM_-2_etaJ_0_xt_500.txt\"]\n",
    "inJ_pTweighted_dict, inJ_input_dict, inJ_label_dict = preprocessing(inverse_etaJ_list, num_jets)"
   ]
  },
  {
   "cell_type": "code",
   "execution_count": 7,
   "metadata": {},
   "outputs": [],
   "source": [
    "import tensorflow as tf\n",
    "from keras import backend as K\n",
    "\n",
    "efn = tf.keras.models.load_model(r\"D:\\Physics\\ML\\jet timing\\code\\normalized_mixed_efn_latent200_2config.h5\", custom_objects={\"K\": K})"
   ]
  },
  {
   "cell_type": "code",
   "execution_count": 36,
   "metadata": {},
   "outputs": [],
   "source": [
    "activation_model = tf.keras.Model(inputs=efn.input, outputs=efn.get_layer('activation_23').output)\n",
    "\n",
    "num_sample =10000"
   ]
  },
  {
   "cell_type": "code",
   "execution_count": 37,
   "metadata": {},
   "outputs": [],
   "source": [
    "train_set = input_dict['inputD:\\Physics\\ML\\jet timing\\data\\delayed_data_etaM_0_etaJ_-2_xt_500.txt']\n",
    "label_set = label_dict['labelD:\\Physics\\ML\\jet timing\\data\\delayed_data_etaM_0_etaJ_-2_xt_500.txt']\n",
    "# Split the mixed data. The shuffle take place before splitting.\n",
    "(z_list, _,\n",
    " X_list, _,\n",
    " Y_list, _) = data_split(train_set[:,:,0], train_set[:,:,1:], label_set, \n",
    " val=0.0, test=0.0, shuffle = True)\n",
    " \n",
    "single_z = np.array(z_list[:num_sample])\n",
    "single_X = np.array(X_list[:num_sample])\n"
   ]
  },
  {
   "cell_type": "code",
   "execution_count": 38,
   "metadata": {},
   "outputs": [
    {
     "name": "stdout",
     "output_type": "stream",
     "text": [
      "313/313 [==============================] - 1s 3ms/step\n",
      "200\n"
     ]
    }
   ],
   "source": [
    "Phi1_act = activation_model.predict([single_z,single_X])\n",
    "Phi1_sample_sum = np.sum(Phi1_act, axis=0)\n",
    "Phi1_nap = np.sum(Phi1_sample_sum, axis=0)\n",
    "normalized_Phi1_nap = Phi1_nap / np.max(Phi1_nap)\n",
    "print(len(Phi1_nap))"
   ]
  },
  {
   "cell_type": "code",
   "execution_count": 39,
   "metadata": {},
   "outputs": [],
   "source": [
    "neJ_train_set = neJ_input_dict['inputD:\\\\Physics\\\\ML\\\\jet timing\\\\data\\\\different_config\\\\training\\\\processed_delayed_jet_etaM_0_etaJ_0_xt_500']\n",
    "neJ_label_set = neJ_label_dict['labelD:\\\\Physics\\\\ML\\\\jet timing\\\\data\\\\different_config\\\\training\\\\processed_delayed_jet_etaM_0_etaJ_0_xt_500']\n",
    "# Split the mixed data. The shuffle take place before splitting.\n",
    "(neJ_z_list, _,\n",
    " neJ_X_list, _,\n",
    " neJ_Y_list, _) = data_split(neJ_train_set[:,:,0], neJ_train_set[:,:,1:], neJ_label_set, \n",
    " val=0.0, test=0.0, shuffle = True)\n",
    " \n",
    "neJ_single_z = np.array(neJ_z_list[:num_sample])\n",
    "neJ_single_X = np.array(neJ_X_list[:num_sample])\n",
    "# print(single_z)\n",
    "# print(single_X)"
   ]
  },
  {
   "cell_type": "code",
   "execution_count": 40,
   "metadata": {},
   "outputs": [
    {
     "name": "stdout",
     "output_type": "stream",
     "text": [
      "313/313 [==============================] - 1s 3ms/step\n"
     ]
    }
   ],
   "source": [
    "neJ_Phi1_act = activation_model.predict([neJ_single_z,neJ_single_X])\n",
    "neJ_Phi1_sample_sum = np.sum(neJ_Phi1_act, axis=0)\n",
    "neJ_Phi1_nap = np.sum(neJ_Phi1_sample_sum, axis=0)\n",
    "normalized_neJ_Phi1_nap = neJ_Phi1_nap / np.max(neJ_Phi1_nap)\n",
    "# print(normalized_sl_F3_nap)"
   ]
  },
  {
   "cell_type": "code",
   "execution_count": 41,
   "metadata": {},
   "outputs": [],
   "source": [
    "rdJ_train_set = rdJ_input_dict['inputD:\\Physics\\ML\\jet timing\\data\\processed_etaM_0_etaJ_1_xt_500.txt']\n",
    "rdJ_label_set = rdJ_label_dict['labelD:\\Physics\\ML\\jet timing\\data\\processed_etaM_0_etaJ_1_xt_500.txt']\n",
    "# Split the mixed data. The shuffle take place before splitting.\n",
    "(rdJ_z_list, _,\n",
    " rdJ_X_list, _,\n",
    " rdJ_Y_list, _) = data_split(rdJ_train_set[:,:,0], rdJ_train_set[:,:,1:], rdJ_label_set, \n",
    " val=0.0, test=0.0, shuffle = True)\n",
    " \n",
    "rdJ_single_z = np.array(rdJ_z_list[:num_sample])\n",
    "rdJ_single_X = np.array(rdJ_X_list[:num_sample])\n",
    "# print(single_z)\n",
    "# print(single_X)"
   ]
  },
  {
   "cell_type": "code",
   "execution_count": 42,
   "metadata": {},
   "outputs": [
    {
     "name": "stdout",
     "output_type": "stream",
     "text": [
      "313/313 [==============================] - 1s 3ms/step\n"
     ]
    }
   ],
   "source": [
    "rdJ_Phi1_act = activation_model.predict([rdJ_single_z,rdJ_single_X])\n",
    "rdJ_Phi1_sample_sum = np.sum(rdJ_Phi1_act, axis=0)\n",
    "rdJ_Phi1_nap = np.sum(rdJ_Phi1_sample_sum, axis=0)\n",
    "normalized_rdJ_Phi1_nap = rdJ_Phi1_nap / np.max(rdJ_Phi1_nap)\n",
    "# print(normalized_sl_F3_nap)"
   ]
  },
  {
   "cell_type": "code",
   "execution_count": 43,
   "metadata": {},
   "outputs": [],
   "source": [
    "inJ_train_set = inJ_input_dict['inputD:\\Physics\\ML\\jet timing\\data\\processed_etaM_-2_etaJ_0_xt_500.txt']\n",
    "inJ_label_set = inJ_label_dict['labelD:\\Physics\\ML\\jet timing\\data\\processed_etaM_-2_etaJ_0_xt_500.txt']\n",
    "# Split the mixed data. The shuffle take place before splitting.\n",
    "(inJ_z_list, _,\n",
    " inJ_X_list, _,\n",
    " inJ_Y_list, _) = data_split(inJ_train_set[:,:,0], inJ_train_set[:,:,1:], inJ_label_set, \n",
    " val=0.0, test=0.0, shuffle = True)\n",
    " \n",
    "inJ_single_z = np.array(inJ_z_list[:num_sample])\n",
    "inJ_single_X = np.array(inJ_X_list[:num_sample])\n",
    "# print(single_z)\n",
    "# print(single_X)"
   ]
  },
  {
   "cell_type": "code",
   "execution_count": 44,
   "metadata": {},
   "outputs": [
    {
     "name": "stdout",
     "output_type": "stream",
     "text": [
      "313/313 [==============================] - 1s 3ms/step\n"
     ]
    }
   ],
   "source": [
    "inJ_Phi1_act = activation_model.predict([inJ_single_z,inJ_single_X])\n",
    "inJ_Phi1_sample_sum = np.sum(inJ_Phi1_act, axis=0)\n",
    "inJ_Phi1_nap = np.sum(inJ_Phi1_sample_sum, axis=0)\n",
    "normalized_inJ_Phi1_nap = inJ_Phi1_nap / np.max(inJ_Phi1_nap)\n",
    "# print(normalized_sl_F3_nap)"
   ]
  },
  {
   "cell_type": "code",
   "execution_count": 45,
   "metadata": {},
   "outputs": [],
   "source": [
    "comp = [normalized_Phi1_nap,normalized_neJ_Phi1_nap, normalized_rdJ_Phi1_nap, normalized_inJ_Phi1_nap]\n",
    "sorted_comp = [list(x) for x in zip(*sorted(zip(*comp), reverse=True))]\n",
    "# print(sorted_comp)"
   ]
  },
  {
   "cell_type": "code",
   "execution_count": 46,
   "metadata": {},
   "outputs": [
    {
     "data": {
      "image/png": "[encoded data removed]",
      "text/plain": [
       "<Figure size 200x1000 with 1 Axes>"
      ]
     },
     "metadata": {},
     "output_type": "display_data"
    }
   ],
   "source": [
    "neuron_indices = np.arange(len(sorted_comp[0]))\n",
    "width = np.ones_like(neuron_indices)\n",
    "colors = plt.cm.viridis(sorted_comp[0])  # You can choose any colormap you prefer\n",
    "\n",
    "# Create the horizontal bar plot\n",
    "plt.figure(figsize=(2, 10))\n",
    "bars = plt.barh(neuron_indices, width, height=1, color=colors)\n",
    "\n",
    "# # Add color bar to indicate the mapping of color to values\n",
    "# cbar = plt.colorbar(bars, orientation='vertical')\n",
    "# cbar.set_label('Normalized Values')\n",
    "\n",
    "plt.xlabel('Values')\n",
    "plt.ylabel('Labels')\n",
    "plt.title('etaM=0 etaJ=-2 (Training)')\n",
    "plt.show()"
   ]
  },
  {
   "cell_type": "code",
   "execution_count": 47,
   "metadata": {},
   "outputs": [
    {
     "data": {
      "image/png": "[encoded data removed]",
      "text/plain": [
       "<Figure size 200x1000 with 1 Axes>"
      ]
     },
     "metadata": {},
     "output_type": "display_data"
    }
   ],
   "source": [
    "neuron_indices = np.arange(len(sorted_comp[1]))\n",
    "width = np.ones_like(neuron_indices)\n",
    "colors = plt.cm.viridis(sorted_comp[1])  # You can choose any colormap you prefer\n",
    "\n",
    "# Create the horizontal bar plot\n",
    "plt.figure(figsize=(2, 10))\n",
    "bars = plt.barh(neuron_indices, width, height=1, color=colors)\n",
    "\n",
    "# # Add color bar to indicate the mapping of color to values\n",
    "# cbar = plt.colorbar(bars, orientation='vertical')\n",
    "# cbar.set_label('Normalized Values')\n",
    "\n",
    "plt.xlabel('Values')\n",
    "plt.ylabel('Labels')\n",
    "plt.title('etaM=0 etaJ=0 (neJ)')\n",
    "plt.show()"
   ]
  },
  {
   "cell_type": "code",
   "execution_count": 48,
   "metadata": {},
   "outputs": [
    {
     "data": {
      "image/png": "[encoded data removed]",
      "text/plain": [
       "<Figure size 200x1000 with 1 Axes>"
      ]
     },
     "metadata": {},
     "output_type": "display_data"
    }
   ],
   "source": [
    "neuron_indices = np.arange(len(sorted_comp[2]))\n",
    "width = np.ones_like(neuron_indices)\n",
    "colors = plt.cm.viridis(sorted_comp[2])  # You can choose any colormap you prefer\n",
    "\n",
    "# Create the horizontal bar plot\n",
    "plt.figure(figsize=(2, 10))\n",
    "bars = plt.barh(neuron_indices, width, height=1, color=colors)\n",
    "\n",
    "# # Add color bar to indicate the mapping of color to values\n",
    "# cbar = plt.colorbar(bars, orientation='vertical')\n",
    "# cbar.set_label('Normalized Values')\n",
    "\n",
    "plt.xlabel('Values')\n",
    "plt.ylabel('Labels')\n",
    "plt.title('etaM=0 etaJ=1 (rdJ')\n",
    "plt.show()"
   ]
  },
  {
   "cell_type": "code",
   "execution_count": 49,
   "metadata": {},
   "outputs": [
    {
     "data": {
      "image/png": "[encoded data removed]",
      "text/plain": [
       "<Figure size 200x1000 with 1 Axes>"
      ]
     },
     "metadata": {},
     "output_type": "display_data"
    }
   ],
   "source": [
    "neuron_indices = np.arange(len(sorted_comp[3]))\n",
    "width = np.ones_like(neuron_indices)\n",
    "colors = plt.cm.viridis(sorted_comp[3])  # You can choose any colormap you prefer\n",
    "\n",
    "# Create the horizontal bar plot\n",
    "plt.figure(figsize=(2, 10))\n",
    "bars = plt.barh(neuron_indices, width, height=1, color=colors)\n",
    "\n",
    "# # Add color bar to indicate the mapping of color to values\n",
    "# cbar = plt.colorbar(bars, orientation='vertical')\n",
    "# cbar.set_label('Normalized Values')\n",
    "\n",
    "plt.xlabel('Values')\n",
    "plt.ylabel('Labels')\n",
    "plt.title('etaM=0 etaJ=2 (inJ)')\n",
    "plt.show()"
   ]
  }
 ],
 "metadata": {
  "interpreter": {
   "hash": "28666db6a9a784d210517f331680e19575f84f7d8b6668bd65e3a8b7e944ed5f"
  },
  "kernelspec": {
   "display_name": "Python 3.10.9 ('madminer')",
   "language": "python",
   "name": "python3"
  },
  "language_info": {
   "codemirror_mode": {
    "name": "ipython",
    "version": 3
   },
   "file_extension": ".py",
   "mimetype": "text/x-python",
   "name": "python",
   "nbconvert_exporter": "python",
   "pygments_lexer": "ipython3",
   "version": "3.10.9"
  },
  "orig_nbformat": 4
 },
 "nbformat": 4,
 "nbformat_minor": 2
}
